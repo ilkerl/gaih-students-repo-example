#Create 5 students. Ask these students from the user.
ogrenci_1={'name':0, 'midterm':0, 'project':0, 'final':0, 'passing grade':0}
ogrenci_2={'name':0, 'midterm':0, 'project':0, 'final':0, 'passing grade':0}
ogrenci_3={'name':0, 'midterm':0, 'project':0, 'final':0, 'passing grade':0}
ogrenci_4={'name':0, 'midterm':0, 'project':0, 'final':0, 'passing grade':0}
ogrenci_5={'name':0, 'midterm':0, 'project':0, 'final':0, 'passing grade':0}

#Each of these students should have midterm grade, project grade and final grade. Each student will have a course passing grade. passingGrade=midterm*(0.3)+project*(0.3)+final*(0.4) passing grade should be determined like this. Create a dictionary that keeps these students' information. Calculate the students grades and transfer them to the list with the help of indexing.

ogrenci_1['name']=input("1. öğrencinin ismini giriniz:")
ogrenci_1['midterm']=int(input("1. öğrencinin midterm değerini giriniz:"))
ogrenci_1['project']=int(input("1. öğrencinin project değerini giriniz:"))
ogrenci_1['final']=int(input("1. öğrencinin final değerini giriniz:"))
ogrenci_1['passing grade']=ogrenci_1['midterm']*(0.3)+ogrenci_1['project']*(0.3)+ogrenci_1['final']*(0.4) 

ogrenci_2['name']=input("2. öğrencinin ismini giriniz:")
ogrenci_2['midterm']=int(input("2. öğrencinin midterm değerini giriniz:"))
ogrenci_2['project']=int(input("2. öğrencinin project değerini giriniz:"))
ogrenci_2['final']=int(input("2. öğrencinin final değerini giriniz:"))
ogrenci_2['passing grade']=ogrenci_2['midterm']*(0.3)+ogrenci_2['project']*(0.3)+ogrenci_2['final']*(0.4)

ogrenci_3['name']=input("3. öğrencinin ismini giriniz:")
ogrenci_3['midterm']=int(input("3. öğrencinin midterm değerini giriniz:"))
ogrenci_3['project']=int(input("3. öğrencinin project değerini giriniz:"))
ogrenci_3['final']=int(input("3. öğrencinin final değerini giriniz:"))
ogrenci_3['passing grade']=ogrenci_3['midterm']*(0.3)+ogrenci_3['project']*(0.3)+ogrenci_3['final']*(0.4)

ogrenci_4['name']=input("4. öğrencinin ismini giriniz:")
ogrenci_4['midterm']=int(input("4. öğrencinin midterm değerini giriniz:"))
ogrenci_4['project']=int(input("4. öğrencinin project değerini giriniz:"))
ogrenci_4['final']=int(input("4. öğrencinin final değerini giriniz:"))
ogrenci_4['passing grade']=ogrenci_4['midterm']*(0.3)+ogrenci_4['project']*(0.3)+ogrenci_4['final']*(0.4)

ogrenci_5['name']=input("5. öğrencinin ismini giriniz:")
ogrenci_5['midterm']=int(input("5. öğrencinin midterm değerini giriniz:"))
ogrenci_5['project']=int(input("5. öğrencinin project değerini giriniz:"))
ogrenci_5['final']=int(input("5. öğrencinin final değerini giriniz:"))
ogrenci_5['passing grade']=ogrenci_5['midterm']*(0.3)+ogrenci_5['project']*(0.3)+ogrenci_5['final']*(0.4)

list1=list()
list1.append(ogrenci_1['passing grade'])
list1.append(ogrenci_2['passing grade'])
list1.append(ogrenci_3['passing grade'])
list1.append(ogrenci_4['passing grade'])
list1.append(ogrenci_5['passing grade'])

#Finally, set the student with the highest grade to be in the first index and the student with lowest gradeto be in the last index of the list.

list1.sort()
print(list1)
