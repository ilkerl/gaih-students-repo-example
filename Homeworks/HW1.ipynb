# Homework 1
"""
Create two lists.
The first list should consist of odd numbers.
The second list is also of even numbers.
"""
list1_odd=[1,3,5,7,9]
list2_even=[0,2,4,6,8]
print("Odd numbers:",list1_odd)
print("Even numbers:",list2_even)

# Merge two lists.
merged_list=list1_odd+list2_even
print("Merged list:",merged_list)

# Multiply all values in the new list by 2.
double_merged_list=[]
for i in merged_list:
    double_merged_list.append(i*2)
print("Multiplied by 2:",double_merged_list)

# Use a loop to print the data type of the all values in the new list.
for y,i in zip(range(0,len(double_merged_list)),double_merged_list):
    print("The data type of {}. value which is {}: {}".format(y,i,type(i)))


"""
# If a string value will be added, the data type of this string value also can see as str.
double_merged_list.append("global ai hub")
for y,i in zip(range(0,len(double_merged_list)),double_merged_list):
    print("The data type of {}. value which is {}: {}".format(y,i,type(i)))
"""
